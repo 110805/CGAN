{
  "nbformat": 4,
  "nbformat_minor": 0,
  "metadata": {
    "colab": {
      "name": "CGAN.ipynb",
      "provenance": [],
      "authorship_tag": "ABX9TyPtOrWUmKyS7tNq2f0DC5Ar",
      "include_colab_link": true
    },
    "kernelspec": {
      "name": "python3",
      "display_name": "Python 3"
    }
  },
  "cells": [
    {
      "cell_type": "markdown",
      "metadata": {
        "id": "view-in-github",
        "colab_type": "text"
      },
      "source": [
        "<a href=\"https://colab.research.google.com/github/110805/CGAN/blob/master/CGAN.ipynb\" target=\"_parent\"><img src=\"https://colab.research.google.com/assets/colab-badge.svg\" alt=\"Open In Colab\"/></a>"
      ]
    },
    {
      "cell_type": "code",
      "metadata": {
        "id": "MjteG7KkV8Gg",
        "colab_type": "code",
        "colab": {
          "base_uri": "https://localhost:8080/",
          "height": 156
        },
        "outputId": "0bb61c0b-b40f-4d91-e268-bc16f868e808"
      },
      "source": [
        "!git clone https://github.com/110805/CGAN.git\n",
        "%cd CGAN/"
      ],
      "execution_count": 1,
      "outputs": [
        {
          "output_type": "stream",
          "text": [
            "Cloning into 'CGAN'...\n",
            "remote: Enumerating objects: 18021, done.\u001b[K\n",
            "remote: Counting objects: 100% (18021/18021), done.\u001b[K\n",
            "remote: Compressing objects: 100% (18021/18021), done.\u001b[K\n",
            "remote: Total 18021 (delta 0), reused 18021 (delta 0), pack-reused 0\u001b[K\n",
            "Receiving objects: 100% (18021/18021), 1.81 GiB | 43.62 MiB/s, done.\n",
            "Checking out files: 100% (18017/18017), done.\n",
            "/content/CGAN\n"
          ],
          "name": "stdout"
        }
      ]
    },
    {
      "cell_type": "code",
      "metadata": {
        "id": "JNTcoExraKuA",
        "colab_type": "code",
        "colab": {}
      },
      "source": [
        "import PIL.Image as Image\n",
        "import json\n",
        "from torch.utils import data\n",
        "import numpy as np\n",
        "import torch\n",
        "from torch.utils.data import DataLoader\n",
        "from torchvision import transforms\n",
        "import torch.nn.functional as F\n",
        "import matplotlib.pyplot as plt"
      ],
      "execution_count": 0,
      "outputs": []
    },
    {
      "cell_type": "code",
      "metadata": {
        "id": "-BFuuevLWWh9",
        "colab_type": "code",
        "colab": {
          "base_uri": "https://localhost:8080/",
          "height": 451
        },
        "outputId": "4efcdf13-d6ee-4179-a1d0-237474d1d176"
      },
      "source": [
        "class iclevrDataSet(data.Dataset):\n",
        "    def __init__(self):\n",
        "        with open('/content/CGAN/dataset/train.json', 'r') as f:\n",
        "            file_dict = json.load(f)\n",
        "\n",
        "        self.length = len(file_dict)\n",
        "        self.img_name = list(file_dict.keys())\n",
        "        self.labels = list(file_dict.values())\n",
        "        self.transformations = transforms.Compose([transforms.Resize((48, 64)),\n",
        "                                                   transforms.ToTensor(),\n",
        "                                                   transforms.Normalize([0.5], [0.5])\n",
        "                                                   ])\n",
        "        print(f'>> Found {self.length} images...')\n",
        "        \n",
        "    def __len__(self):\n",
        "        return self.length\n",
        "\n",
        "    def __getitem__(self, index):\n",
        "        img_path = '/content/CGAN/iclevr/' + self.img_name[index]\n",
        "        img = Image.open(img_path)\n",
        "        img = img.convert('RGB')\n",
        "        img = self.transformations(img)\n",
        "\n",
        "        labels = self.labels[index]\n",
        "        label = []\n",
        "        with open('/content/CGAN/dataset/objects.json', 'r') as f:\n",
        "            obj_dict = json.load(f)\n",
        "\n",
        "        for i in labels:\n",
        "            label.append(obj_dict[i])\n",
        "\n",
        "        return img, np.array(label)\n",
        "\n",
        "iclevrDataSet().__getitem__(0)"
      ],
      "execution_count": 71,
      "outputs": [
        {
          "output_type": "stream",
          "text": [
            ">> Found 18009 images...\n"
          ],
          "name": "stdout"
        },
        {
          "output_type": "execute_result",
          "data": {
            "text/plain": [
              "(tensor([[[-0.1765, -0.1765, -0.1686,  ..., -0.1922, -0.1922, -0.1922],\n",
              "          [-0.1686, -0.1765, -0.1686,  ..., -0.1922, -0.1922, -0.1922],\n",
              "          [-0.1765, -0.1765, -0.1686,  ..., -0.2000, -0.2000, -0.2000],\n",
              "          ...,\n",
              "          [-0.0745, -0.0745, -0.0745,  ...,  0.1373,  0.1294,  0.1294],\n",
              "          [-0.0745, -0.0745, -0.0667,  ...,  0.1451,  0.1373,  0.1294],\n",
              "          [-0.0824, -0.0745, -0.0667,  ...,  0.1451,  0.1373,  0.1373]],\n",
              " \n",
              "         [[-0.1765, -0.1765, -0.1765,  ..., -0.1922, -0.1922, -0.1922],\n",
              "          [-0.1686, -0.1765, -0.1765,  ..., -0.1922, -0.1922, -0.1922],\n",
              "          [-0.1765, -0.1765, -0.1765,  ..., -0.2000, -0.2000, -0.2000],\n",
              "          ...,\n",
              "          [-0.0824, -0.0824, -0.0745,  ...,  0.1137,  0.1137,  0.1059],\n",
              "          [-0.0824, -0.0824, -0.0745,  ...,  0.1216,  0.1137,  0.1137],\n",
              "          [-0.0824, -0.0745, -0.0745,  ...,  0.1294,  0.1216,  0.1137]],\n",
              " \n",
              "         [[-0.1765, -0.1765, -0.1765,  ..., -0.1922, -0.1922, -0.1922],\n",
              "          [-0.1765, -0.1843, -0.1765,  ..., -0.1922, -0.1922, -0.2000],\n",
              "          [-0.1765, -0.1765, -0.1765,  ..., -0.2000, -0.2000, -0.2000],\n",
              "          ...,\n",
              "          [-0.0902, -0.0902, -0.0824,  ...,  0.0824,  0.0824,  0.0745],\n",
              "          [-0.0902, -0.0902, -0.0824,  ...,  0.0902,  0.0824,  0.0824],\n",
              "          [-0.0902, -0.0902, -0.0824,  ...,  0.0980,  0.0902,  0.0824]]]),\n",
              " array([6]))"
            ]
          },
          "metadata": {
            "tags": []
          },
          "execution_count": 71
        }
      ]
    }
  ]
}